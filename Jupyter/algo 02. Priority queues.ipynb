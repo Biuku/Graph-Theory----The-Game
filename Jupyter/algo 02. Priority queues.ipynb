{
 "cells": [
  {
   "cell_type": "markdown",
   "metadata": {},
   "source": [
    "# Priority queues\n",
    "\n",
    "May 4, 2021"
   ]
  },
  {
   "cell_type": "code",
   "execution_count": 2,
   "metadata": {},
   "outputs": [],
   "source": [
    "import random"
   ]
  },
  {
   "cell_type": "markdown",
   "metadata": {},
   "source": [
    "## 1. Sorted list of tuples -- simple and slow\n",
    "\n",
    "- It works perfectly fine for what I need -- it's instant, even iterating on 25 items"
   ]
  },
  {
   "cell_type": "code",
   "execution_count": 3,
   "metadata": {},
   "outputs": [],
   "source": [
    "items = [(195, 'dennis'), (210, 'patrick'), (250, 'andrew'), (80, 'bella'), (75, 'isaac'), (130, 'maya')]"
   ]
  },
  {
   "cell_type": "code",
   "execution_count": 4,
   "metadata": {},
   "outputs": [
    {
     "name": "stdout",
     "output_type": "stream",
     "text": [
      "[(250, 'andrew')]\n",
      "[(75, 'isaac'), (250, 'andrew')]\n",
      "[(75, 'isaac'), (195, 'dennis'), (250, 'andrew')]\n",
      "[(75, 'isaac'), (130, 'maya'), (195, 'dennis'), (250, 'andrew')]\n",
      "[(75, 'isaac'), (130, 'maya'), (195, 'dennis'), (210, 'patrick'), (250, 'andrew')]\n",
      "[(75, 'isaac'), (80, 'bella'), (130, 'maya'), (195, 'dennis'), (210, 'patrick'), (250, 'andrew')]\n"
     ]
    }
   ],
   "source": [
    "queue = []\n",
    "\n",
    "while len(queue) < len (items):\n",
    "    new = random.choice(items)\n",
    "    if new not in queue:\n",
    "        queue.append(new)\n",
    "        queue.sort()\n",
    "        print(queue)"
   ]
  },
  {
   "cell_type": "markdown",
   "metadata": {},
   "source": [
    "### 1.1 Re-do, but with 25 items"
   ]
  },
  {
   "cell_type": "code",
   "execution_count": 5,
   "metadata": {},
   "outputs": [],
   "source": [
    "names = \"Maria Nushi Mohammed Jose Muhammad Mohamed Wei Mohammad Ahmed Yan Ali John David Li Abdul Ana Ying Michael Juan Anna Mary Jean Robert Daniel Luis\"\n",
    "names = names.split()"
   ]
  },
  {
   "cell_type": "code",
   "execution_count": 14,
   "metadata": {},
   "outputs": [
    {
     "data": {
      "text/plain": [
       "[[(116, 'Maria')],\n",
       " [(237, 'Nushi')],\n",
       " [(135, 'Mohammed')],\n",
       " [(127, 'Jose')],\n",
       " [(88, 'Muhammad')]]"
      ]
     },
     "execution_count": 14,
     "metadata": {},
     "output_type": "execute_result"
    }
   ],
   "source": [
    "items = []\n",
    "\n",
    "for name in names:\n",
    "    x = random.randint(50, 250)\n",
    "    items.append([(x, name)])\n",
    "\n",
    "items[0:5]"
   ]
  },
  {
   "cell_type": "code",
   "execution_count": 20,
   "metadata": {},
   "outputs": [
    {
     "name": "stdout",
     "output_type": "stream",
     "text": [
      "[(64, 'Michael')]\n",
      "[(71, 'Wei')]\n",
      "[(72, 'Mohammad')]\n",
      "[(79, 'John')]\n",
      "[(88, 'Muhammad')]\n",
      "[(93, 'David')]\n",
      "[(100, 'Li')]\n",
      "[(102, 'Yan')]\n",
      "[(107, 'Mary')]\n",
      "[(116, 'Maria')]\n",
      "[(121, 'Ying')]\n",
      "[(127, 'Jose')]\n",
      "[(130, 'Mohamed')]\n",
      "[(135, 'Mohammed')]\n",
      "[(137, 'Abdul')]\n",
      "[(140, 'Anna')]\n",
      "[(148, 'Juan')]\n",
      "[(162, 'Ana')]\n",
      "[(182, 'Daniel')]\n",
      "[(187, 'Ahmed')]\n",
      "[(192, 'Ali')]\n",
      "[(229, 'Robert')]\n",
      "[(233, 'Luis')]\n",
      "[(237, 'Nushi')]\n",
      "[(244, 'Jean')]\n"
     ]
    }
   ],
   "source": [
    "for i in range(2500):\n",
    "    queue = []\n",
    "    \n",
    "    while len(queue) < len (items):\n",
    "        new = random.choice(items)\n",
    "\n",
    "        if new not in queue:\n",
    "            queue.append(new)\n",
    "            queue.sort()\n",
    "            #print(queue)\n",
    "\n",
    "for item in queue:\n",
    "    print(item)"
   ]
  },
  {
   "cell_type": "markdown",
   "metadata": {},
   "source": [
    "## 2. heapq"
   ]
  },
  {
   "cell_type": "code",
   "execution_count": 8,
   "metadata": {},
   "outputs": [],
   "source": [
    "import heapq"
   ]
  },
  {
   "cell_type": "code",
   "execution_count": 9,
   "metadata": {},
   "outputs": [
    {
     "name": "stdout",
     "output_type": "stream",
     "text": [
      "1  Mohammed    61\n",
      "2  Anna        63\n",
      "3  Ali         64\n",
      "4  Daniel      69\n",
      "5  Jose        81\n",
      "6  Mohammad    85\n",
      "7  David       93\n",
      "8  Li          93\n",
      "9  Ana         99\n",
      "10 Robert      100\n",
      "11 Yan         101\n",
      "12 Muhammad    105\n",
      "13 Abdul       107\n",
      "14 John        143\n",
      "15 Mary        145\n",
      "16 Jean        151\n",
      "17 Ying        154\n",
      "18 Michael     193\n",
      "19 Ahmed       198\n",
      "20 Luis        222\n",
      "21 Wei         225\n",
      "22 Maria       227\n",
      "23 Nushi       232\n",
      "24 Mohamed     233\n",
      "25 Juan        238\n"
     ]
    }
   ],
   "source": [
    "queue = []\n",
    "\n",
    "for name in names:\n",
    "    x = random.randint(50, 250)\n",
    "    \n",
    "    heapq.heappush(queue, (x, name))\n",
    "\n",
    "#queue\n",
    "count = 1\n",
    "while queue:\n",
    "    x = heapq.heappop(queue)\n",
    "    print(f\"{count:<2} {x[1]:<10}  {x[0]}\")\n",
    "    count += 1"
   ]
  },
  {
   "cell_type": "markdown",
   "metadata": {},
   "source": [
    "## 3. queue.PriorityQueue\n",
    "- Based on heapq"
   ]
  },
  {
   "cell_type": "code",
   "execution_count": 10,
   "metadata": {},
   "outputs": [],
   "source": [
    "from queue import PriorityQueue\n",
    "\n",
    "queue = PriorityQueue()"
   ]
  },
  {
   "cell_type": "code",
   "execution_count": 13,
   "metadata": {},
   "outputs": [
    {
     "name": "stdout",
     "output_type": "stream",
     "text": [
      "1  Wei         53\n",
      "2  Yan         54\n",
      "3  Ali         60\n",
      "4  Robert      62\n",
      "5  John        67\n",
      "6  Muhammad    82\n",
      "7  Ana         85\n",
      "8  Maria       91\n",
      "9  Jose        103\n",
      "10 Juan        106\n",
      "11 Luis        133\n",
      "12 Anna        140\n",
      "13 Mohammad    140\n",
      "14 Nushi       141\n",
      "15 Daniel      144\n",
      "16 David       159\n",
      "17 Ying        171\n",
      "18 Li          178\n",
      "19 Michael     192\n",
      "20 Abdul       197\n",
      "21 Mohamed     205\n",
      "22 Mary        212\n",
      "23 Mohammed    226\n",
      "24 Ahmed       237\n",
      "25 Jean        240\n"
     ]
    }
   ],
   "source": [
    "queue = PriorityQueue()\n",
    "\n",
    "for name in names:\n",
    "    x = random.randint(50, 250)\n",
    "    \n",
    "    queue.put( (x, name) )\n",
    "\n",
    "count = 1\n",
    "\n",
    "for i in range(len(names)):\n",
    "    x = queue.get()\n",
    "    print(f\"{count:<2} {x[1]:<10}  {x[0]}\")\n",
    "    count += 1"
   ]
  },
  {
   "cell_type": "code",
   "execution_count": null,
   "metadata": {},
   "outputs": [],
   "source": []
  }
 ],
 "metadata": {
  "kernelspec": {
   "display_name": "Python 3",
   "language": "python",
   "name": "python3"
  },
  "language_info": {
   "codemirror_mode": {
    "name": "ipython",
    "version": 3
   },
   "file_extension": ".py",
   "mimetype": "text/x-python",
   "name": "python",
   "nbconvert_exporter": "python",
   "pygments_lexer": "ipython3",
   "version": "3.7.6"
  }
 },
 "nbformat": 4,
 "nbformat_minor": 4
}
