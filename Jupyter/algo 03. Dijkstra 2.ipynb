{
 "cells": [
  {
   "cell_type": "markdown",
   "metadata": {},
   "source": [
    "# Dijkstra 2\n",
    "\n",
    "May 4, 2021"
   ]
  },
  {
   "cell_type": "markdown",
   "metadata": {},
   "source": [
    "## 1. Graph\n",
    "<img src = 'G4G-a.jpg' width = 300>"
   ]
  },
  {
   "cell_type": "code",
   "execution_count": 2,
   "metadata": {},
   "outputs": [],
   "source": [
    "graph =[[0, 4, 0, 0, 0, 0, 0, 8, 0], \n",
    "        [4, 0, 8, 0, 0, 0, 0, 11, 0], \n",
    "        [0, 8, 0, 7, 0, 4, 0, 0, 2], \n",
    "        [0, 0, 7, 0, 9, 14, 0, 0, 0], \n",
    "        [0, 0, 0, 9, 0, 10, 0, 0, 0], \n",
    "        [0, 0, 4, 14, 10, 0, 2, 0, 0], \n",
    "        [0, 0, 0, 0, 0, 2, 0, 1, 6], \n",
    "        [8, 11, 0, 0, 0, 0, 1, 0, 7], \n",
    "        [0, 0, 2, 0, 0, 0, 6, 7, 0] \n",
    "        ];"
   ]
  },
  {
   "cell_type": "markdown",
   "metadata": {},
   "source": [
    "## 2. Node object"
   ]
  },
  {
   "cell_type": "code",
   "execution_count": 3,
   "metadata": {},
   "outputs": [],
   "source": [
    "import math as m"
   ]
  },
  {
   "cell_type": "code",
   "execution_count": 21,
   "metadata": {},
   "outputs": [],
   "source": [
    "class Node:\n",
    "    \n",
    "    def __init__(self, id):\n",
    "        self.id = id\n",
    "        self.tc = m.inf\n",
    "        self.unvisited = True\n",
    "        self.parent = None"
   ]
  },
  {
   "cell_type": "code",
   "execution_count": 7,
   "metadata": {},
   "outputs": [],
   "source": [
    "nodes = [Node(id) for id in range(len(graph))]\n",
    "nodes[0].tc = 0"
   ]
  },
  {
   "cell_type": "code",
   "execution_count": 8,
   "metadata": {},
   "outputs": [
    {
     "name": "stdout",
     "output_type": "stream",
     "text": [
      "0 0 False None\n",
      "1 inf False None\n",
      "2 inf False None\n",
      "3 inf False None\n",
      "4 inf False None\n",
      "5 inf False None\n",
      "6 inf False None\n",
      "7 inf False None\n",
      "8 inf False None\n"
     ]
    }
   ],
   "source": [
    "for node in nodes:\n",
    "    print(node.id, node.tc, node.visited, node.parent)"
   ]
  },
  {
   "cell_type": "markdown",
   "metadata": {},
   "source": [
    "## 3. Dijkstra"
   ]
  },
  {
   "cell_type": "markdown",
   "metadata": {},
   "source": [
    "### Dijkstra -- proper theory\n",
    "\n",
    "#### Initialization\n",
    "- Mark all nodes: 'unvisited'\n",
    "- Set total cost of Node 0 = 0; all else = infinity\n",
    "- Set currNode = Node 0\n",
    "\n",
    "#### Invariant\n",
    "1. For all unvisited neighbours of currNode (nb), check if (totalCost to currNode + cost of 1 step to nb) < totalCost to nb. If so:\n",
    "    - update nb totalCost \n",
    "    - update nb parent to currNode\n",
    "2. Set the currNode to visited\n",
    "3. If ‘fin’ == visited, stop\n",
    "4. Else, currNode = unvisited node with least cost"
   ]
  },
  {
   "cell_type": "code",
   "execution_count": 13,
   "metadata": {},
   "outputs": [],
   "source": [
    "def make_nodes():\n",
    "    nodes = [Node(id) for id in range(len(graph))]\n",
    "    nodes[0].tc = 0\n",
    "    return nodes"
   ]
  },
  {
   "cell_type": "code",
   "execution_count": 18,
   "metadata": {},
   "outputs": [
    {
     "data": {
      "text/plain": [
       "69"
      ]
     },
     "execution_count": 18,
     "metadata": {},
     "output_type": "execute_result"
    }
   ],
   "source": [
    "x = [(69, 1), (420, 2)]\n",
    "y = x.pop(0)\n",
    "y[0]"
   ]
  },
  {
   "cell_type": "code",
   "execution_count": 51,
   "metadata": {},
   "outputs": [
    {
     "name": "stdout",
     "output_type": "stream",
     "text": [
      "1 | 7 | \n",
      "7 | 2 | \n",
      "6 | 2 | 8 | \n",
      "5 | 2 | 8 | \n",
      "2 | 8 | 4 | 3 | \n",
      "8 | 8 | 3 | 4 | 3 | \n",
      "8 | 3 | 4 | 3 | \n",
      "3 | 4 | 3 | \n",
      "4 | 3 | \n",
      "3 | \n",
      "\n"
     ]
    }
   ],
   "source": [
    "def dijkstra():\n",
    "    nodes = make_nodes()\n",
    "    \n",
    "    queue = [(0, nodes[0])]\n",
    "    \n",
    "    while queue:\n",
    "        curr_node = queue.pop(0)[1]\n",
    "        \n",
    "        ## Iterate through all neighbhours\n",
    "        for nb_id, step_w in enumerate(graph[curr_node.id]):\n",
    "            nb = nodes[nb_id]\n",
    "            \n",
    "            ## If there's an edge and we have not finalized tc for this node (visited)\n",
    "            if step_w and nb.unvisited:\n",
    "                trial_cost = curr_node.tc + step_w\n",
    "\n",
    "                if trial_cost < nb.tc:\n",
    "                    nb.tc = trial_cost\n",
    "                    nb.parent = curr_node\n",
    "                    queue.append( (nb.tc, nb))\n",
    "        \n",
    "        curr_node.unvisited = False\n",
    "        queue.sort()\n",
    "        \n",
    "        ## Tracer\n",
    "        for item in queue:\n",
    "            print(item[1].id, end = \" | \")\n",
    "        print()\n",
    "        \n",
    "    \n",
    "    return nodes\n",
    "\n",
    "nodes = dijkstra()"
   ]
  },
  {
   "cell_type": "markdown",
   "metadata": {},
   "source": [
    "## 4. Print solution"
   ]
  },
  {
   "cell_type": "code",
   "execution_count": 48,
   "metadata": {},
   "outputs": [
    {
     "name": "stdout",
     "output_type": "stream",
     "text": [
      "1. 0 --> 7  |  Step cost:  8  |  Total cost to here:  8\n",
      "2. 7 --> 6  |  Step cost:  1  |  Total cost to here:  9\n",
      "3. 6 --> 5  |  Step cost:  2  |  Total cost to here: 11\n",
      "4. 5 --> 4  |  Step cost: 10  |  Total cost to here: 21\n",
      "\n",
      "Cheapest has cost 21:\n",
      "\n"
     ]
    }
   ],
   "source": [
    "def print_sol(fin_node, nodes):\n",
    "    path = [nodes[fin_node]]\n",
    "    curr_node = nodes[fin_node]\n",
    "    \n",
    "    while curr_node.id != 0:\n",
    "        curr_node = curr_node.parent\n",
    "        path.insert(0, curr_node)\n",
    "        \n",
    "    for count, node in enumerate(path):\n",
    "        if node == nodes[fin_node]:\n",
    "            break\n",
    "        child = path[count+1]\n",
    "        step_cost = graph[node.id][child.id]\n",
    "        print(f\"{count+1}. {node.id} --> {child.id:<2}\", \\\n",
    "        f\"|  Step cost: {step_cost:>2}  |  Total cost to here: {child.tc:>2}\")\n",
    "\n",
    "        count += 1\n",
    "\n",
    "    print(f\"\\nCheapest has cost {nodes[fin_node].tc}:\\n\")\n",
    "    \n",
    "print_sol(4, nodes)"
   ]
  },
  {
   "cell_type": "markdown",
   "metadata": {},
   "source": [
    "\n",
    "<img src = 'G4G-a.jpg' width = 300>"
   ]
  },
  {
   "cell_type": "code",
   "execution_count": null,
   "metadata": {},
   "outputs": [],
   "source": []
  }
 ],
 "metadata": {
  "kernelspec": {
   "display_name": "Python 3",
   "language": "python",
   "name": "python3"
  },
  "language_info": {
   "codemirror_mode": {
    "name": "ipython",
    "version": 3
   },
   "file_extension": ".py",
   "mimetype": "text/x-python",
   "name": "python",
   "nbconvert_exporter": "python",
   "pygments_lexer": "ipython3",
   "version": "3.7.6"
  }
 },
 "nbformat": 4,
 "nbformat_minor": 4
}
