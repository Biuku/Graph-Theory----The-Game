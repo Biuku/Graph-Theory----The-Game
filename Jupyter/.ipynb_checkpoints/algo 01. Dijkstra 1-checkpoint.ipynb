{
 "cells": [
  {
   "cell_type": "markdown",
   "metadata": {},
   "source": [
    "# Dijkstra 1\n",
    "\n",
    "May 3, 2021"
   ]
  },
  {
   "cell_type": "markdown",
   "metadata": {},
   "source": [
    "## Dijkstra -- proper theory\n",
    "\n",
    "#### Initialization\n",
    "- Mark all nodes: 'unvisited'\n",
    "- Set total cost of Node 0 = 0; all else = infinity\n",
    "- Set currNode = Node 0\n",
    "\n",
    "#### Invariant\n",
    "1. For all unvisited neighbours of currNode (nb), check if (totalCost to currNode + cost of 1 step to nb) < totalCost to nb. If so:\n",
    "    - update nb totalCost \n",
    "    - update nb parent to currNode\n",
    "2. Set the currNode to visited\n",
    "3. If ‘fin’ == visited, stop\n",
    "4. Else, currNode = unvisited node with least cost"
   ]
  },
  {
   "cell_type": "markdown",
   "metadata": {},
   "source": [
    "## 1. Make adjacency list"
   ]
  },
  {
   "cell_type": "code",
   "execution_count": 1,
   "metadata": {},
   "outputs": [
    {
     "data": {
      "text/plain": [
       "{0: [], 1: [], 2: [], 3: [], 4: [], 5: [], 6: [], 7: [], 8: []}"
      ]
     },
     "execution_count": 1,
     "metadata": {},
     "output_type": "execute_result"
    }
   ],
   "source": [
    "arr = {k: [] for k in range(9)}\n",
    "\n",
    "arr"
   ]
  },
  {
   "cell_type": "code",
   "execution_count": 2,
   "metadata": {},
   "outputs": [],
   "source": [
    "arr[0].append({1:4})"
   ]
  },
  {
   "cell_type": "code",
   "execution_count": 3,
   "metadata": {},
   "outputs": [
    {
     "data": {
      "text/plain": [
       "{0: [{1: 4}], 1: [], 2: [], 3: [], 4: [], 5: [], 6: [], 7: [], 8: []}"
      ]
     },
     "execution_count": 3,
     "metadata": {},
     "output_type": "execute_result"
    }
   ],
   "source": [
    "arr"
   ]
  },
  {
   "cell_type": "code",
   "execution_count": 6,
   "metadata": {},
   "outputs": [],
   "source": [
    "arr[0].append({7:8})"
   ]
  },
  {
   "cell_type": "code",
   "execution_count": 7,
   "metadata": {},
   "outputs": [
    {
     "data": {
      "text/plain": [
       "{0: [{1: 4}, {7: 8}], 1: [], 2: [], 3: [], 4: [], 5: [], 6: [], 7: [], 8: []}"
      ]
     },
     "execution_count": 7,
     "metadata": {},
     "output_type": "execute_result"
    }
   ],
   "source": [
    "arr"
   ]
  },
  {
   "cell_type": "code",
   "execution_count": 8,
   "metadata": {},
   "outputs": [],
   "source": [
    "arr[1].append({2:8})\n",
    "arr[1].append({7:11})\n",
    "\n",
    "arr[2].append({8:2})\n",
    "arr[2].append({5:4})\n",
    "arr[2].append({3:7})\n",
    "\n",
    "arr[3].append({5:14})\n",
    "arr[3].append({4:9})\n",
    "\n",
    "arr[5].append({4:10})\n",
    "\n",
    "arr[6].append({5:2})\n",
    "\n",
    "arr[7].append({8:7})\n",
    "arr[7].append({6:1})\n",
    "\n",
    "arr[8].append({2:2})\n",
    "arr[8].append({6:6})"
   ]
  },
  {
   "cell_type": "code",
   "execution_count": 9,
   "metadata": {},
   "outputs": [
    {
     "data": {
      "text/plain": [
       "{0: [{1: 4}, {7: 8}],\n",
       " 1: [{2: 8}, {7: 11}],\n",
       " 2: [{8: 2}, {5: 4}, {3: 7}],\n",
       " 3: [{5: 14}, {4: 9}],\n",
       " 4: [],\n",
       " 5: [{4: 10}],\n",
       " 6: [{5: 2}],\n",
       " 7: [{8: 7}, {6: 1}],\n",
       " 8: [{2: 2}, {6: 6}]}"
      ]
     },
     "execution_count": 9,
     "metadata": {},
     "output_type": "execute_result"
    }
   ],
   "source": [
    "arr"
   ]
  },
  {
   "cell_type": "markdown",
   "metadata": {},
   "source": [
    "# NOTE: ARR[NODE] = [{NB: WEIGHT}]"
   ]
  },
  {
   "cell_type": "markdown",
   "metadata": {},
   "source": [
    " "
   ]
  },
  {
   "cell_type": "markdown",
   "metadata": {},
   "source": [
    "## 2. Build Dijkstra"
   ]
  },
  {
   "cell_type": "markdown",
   "metadata": {},
   "source": [
    "#### Initialization\n",
    "- Mark all nodes: 'unvisited'\n",
    "- Set total cost of Node 0 = 0; all else = infinity\n",
    "- Set currNode = Node 0\n",
    "\n",
    "#### Invariant\n",
    "1. For all unvisited neighbours of currNode (nb), check if (totalCost to currNode + cost of 1 step to nb) < totalCost to nb. If so:\n",
    "    - update nb totalCost \n",
    "    - update nb parent to currNode\n",
    "2. Set the currNode to visited\n",
    "3. If ‘fin’ == visited, stop\n",
    "4. Else, currNode = unvisited node with least cost\n",
    "\n"
   ]
  },
  {
   "cell_type": "code",
   "execution_count": 15,
   "metadata": {},
   "outputs": [],
   "source": [
    "import math as m"
   ]
  },
  {
   "cell_type": "markdown",
   "metadata": {},
   "source": [
    "### 2.1 Build Node class and make nodes"
   ]
  },
  {
   "cell_type": "code",
   "execution_count": 78,
   "metadata": {},
   "outputs": [],
   "source": [
    "class Node:\n",
    "    def __init__(self, id, w):\n",
    "        self.id = id\n",
    "        self.tc = m.inf\n",
    "        self.visited = False\n",
    "        self.parent = None"
   ]
  },
  {
   "cell_type": "code",
   "execution_count": 79,
   "metadata": {},
   "outputs": [],
   "source": [
    "nodes = [Node(id, m.inf) for id in range(len(arr))]\n",
    "\n",
    "nodes[0].tc = 0"
   ]
  },
  {
   "cell_type": "code",
   "execution_count": 80,
   "metadata": {},
   "outputs": [
    {
     "name": "stdout",
     "output_type": "stream",
     "text": [
      "0 0\n",
      "1 inf\n",
      "2 inf\n"
     ]
    }
   ],
   "source": [
    "for node in nodes[:3]:\n",
    "    print(node.id, node.tc)"
   ]
  },
  {
   "cell_type": "markdown",
   "metadata": {},
   "source": [
    "## 2.2 Dijkstra"
   ]
  },
  {
   "cell_type": "code",
   "execution_count": 98,
   "metadata": {},
   "outputs": [
    {
     "name": "stdout",
     "output_type": "stream",
     "text": [
      "\n",
      "Current node: 0, with tc: 0\n",
      " > Checking node 1. *new cost*: 4, *curr tc*: inf\n",
      "  >>> New tc: 4 | new parent: 0\n",
      " > Checking node 7. *new cost*: 8, *curr tc*: inf\n",
      "  >>> New tc: 8 | new parent: 0\n",
      "\n",
      "Current node: 1, with tc: 4\n",
      " > Checking node 2. *new cost*: 12, *curr tc*: inf\n",
      "  >>> New tc: 12 | new parent: 1\n",
      " > Checking node 7. *new cost*: 15, *curr tc*: 8\n",
      "\n",
      "Current node: 2, with tc: 12\n",
      " > Checking node 8. *new cost*: 14, *curr tc*: inf\n",
      "  >>> New tc: 14 | new parent: 2\n",
      " > Checking node 5. *new cost*: 16, *curr tc*: inf\n",
      "  >>> New tc: 16 | new parent: 2\n",
      " > Checking node 3. *new cost*: 19, *curr tc*: inf\n",
      "  >>> New tc: 19 | new parent: 2\n",
      "\n",
      "Current node: 3, with tc: 19\n",
      " > Checking node 5. *new cost*: 33, *curr tc*: 16\n",
      " > Checking node 4. *new cost*: 28, *curr tc*: inf\n",
      "  >>> New tc: 28 | new parent: 3\n",
      "\n",
      "Current node: 4, with tc: 28\n",
      "\n",
      "Current node: 5, with tc: 16\n",
      "\n",
      "Current node: 6, with tc: inf\n",
      "\n",
      "Current node: 7, with tc: 8\n",
      " > Checking node 8. *new cost*: 15, *curr tc*: 14\n",
      "\n",
      "Current node: 8, with tc: 14\n"
     ]
    }
   ],
   "source": [
    "def dijkstra(nodes):\n",
    "    \n",
    "    pq = [0]\n",
    "    \n",
    "    while pq:\n",
    "        curr_node_id = pq.pop(0)\n",
    "        curr_node = nodes[curr_node_id]\n",
    "               \n",
    "        neighbours = arr[curr_node.id]\n",
    "        print(f\"\\nCurrent node: {curr_node_id}, with tc: {curr_node.tc}.  |  pq: {pq}\")\n",
    "        \n",
    "        for dict in neighbours:\n",
    "            nb_id = list(dict.keys())[0]\n",
    "            pq.append(nb.id)\n",
    "            \n",
    "            nb_step_w = list(dict.values())[0]\n",
    "            \n",
    "            nb = nodes[nb_id]\n",
    "                        \n",
    "            if not nb.visited:\n",
    "                new_cost = curr_node.tc + nb_step_w\n",
    "                \n",
    "                print(f\" > Checking node {nb_id}. *new cost*: {new_cost}, *curr tc*: {nb.tc}\")\n",
    "                \n",
    "                if new_cost < nb.tc:\n",
    "                    nb.tc = new_cost\n",
    "                    nb.parent = curr_node\n",
    "                    print(f\"  >>> New tc: {new_cost} | new parent: {curr_node.id}\")\n",
    "                    \n",
    "        curr_node.visited = True\n",
    "\n",
    "    \n",
    "    return nodes\n",
    "\n",
    "\n",
    "nodes = [Node(id, m.inf) for id in range(len(arr))]\n",
    "nodes[0].tc = 0\n",
    "\n",
    "x_nodes = dijkstra(nodes)"
   ]
  },
  {
   "cell_type": "code",
   "execution_count": 99,
   "metadata": {},
   "outputs": [
    {
     "name": "stdout",
     "output_type": "stream",
     "text": [
      "node: 4  |  tc: 28  |  parent: 3\n",
      "node: 3  |  tc: 19  |  parent: 2\n",
      "node: 2  |  tc: 12  |  parent: 1\n",
      "node: 1  |  tc: 4   |  parent: 0\n"
     ]
    }
   ],
   "source": [
    "node = x_nodes[4]\n",
    "\n",
    "while node.id != 0:\n",
    "    print(f\"node: {node.id}  |  tc: {node.tc:<2}  |  parent: {node.parent.id}\")\n",
    "    node = node.parent"
   ]
  },
  {
   "cell_type": "markdown",
   "metadata": {},
   "source": [
    "The graph:\n",
    "\n",
    "<img src = 'G4G-a.jpg' width = 400>"
   ]
  },
  {
   "cell_type": "code",
   "execution_count": null,
   "metadata": {},
   "outputs": [],
   "source": []
  }
 ],
 "metadata": {
  "kernelspec": {
   "display_name": "Python 3",
   "language": "python",
   "name": "python3"
  },
  "language_info": {
   "codemirror_mode": {
    "name": "ipython",
    "version": 3
   },
   "file_extension": ".py",
   "mimetype": "text/x-python",
   "name": "python",
   "nbconvert_exporter": "python",
   "pygments_lexer": "ipython3",
   "version": "3.7.6"
  }
 },
 "nbformat": 4,
 "nbformat_minor": 4
}
