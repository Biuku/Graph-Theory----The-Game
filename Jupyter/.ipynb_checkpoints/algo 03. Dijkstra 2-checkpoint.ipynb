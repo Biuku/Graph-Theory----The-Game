{
 "cells": [
  {
   "cell_type": "markdown",
   "metadata": {},
   "source": [
    "# Dijkstra 2\n",
    "\n",
    "May 4, 2021"
   ]
  },
  {
   "cell_type": "markdown",
   "metadata": {},
   "source": [
    "## 1. Graph\n",
    "<img src = 'G4G-a.jpg' width = 300>"
   ]
  },
  {
   "cell_type": "code",
   "execution_count": 2,
   "metadata": {},
   "outputs": [],
   "source": [
    "graph =[[0, 4, 0, 0, 0, 0, 0, 8, 0], \n",
    "        [4, 0, 8, 0, 0, 0, 0, 11, 0], \n",
    "        [0, 8, 0, 7, 0, 4, 0, 0, 2], \n",
    "        [0, 0, 7, 0, 9, 14, 0, 0, 0], \n",
    "        [0, 0, 0, 9, 0, 10, 0, 0, 0], \n",
    "        [0, 0, 4, 14, 10, 0, 2, 0, 0], \n",
    "        [0, 0, 0, 0, 0, 2, 0, 1, 6], \n",
    "        [8, 11, 0, 0, 0, 0, 1, 0, 7], \n",
    "        [0, 0, 2, 0, 0, 0, 6, 7, 0] \n",
    "        ];"
   ]
  },
  {
   "cell_type": "markdown",
   "metadata": {},
   "source": [
    "## 2. Node object"
   ]
  },
  {
   "cell_type": "code",
   "execution_count": 3,
   "metadata": {},
   "outputs": [],
   "source": [
    "import math as m"
   ]
  },
  {
   "cell_type": "code",
   "execution_count": 6,
   "metadata": {},
   "outputs": [],
   "source": [
    "class Node:\n",
    "    \n",
    "    def __init__(self, id):\n",
    "        self.id = id\n",
    "        self.tc = m.inf\n",
    "        self.unvisited = True\n",
    "        self.parent = None"
   ]
  },
  {
   "cell_type": "code",
   "execution_count": 7,
   "metadata": {},
   "outputs": [],
   "source": [
    "nodes = [Node(id) for id in range(len(graph))]\n",
    "nodes[0].tc = 0"
   ]
  },
  {
   "cell_type": "code",
   "execution_count": 8,
   "metadata": {},
   "outputs": [
    {
     "name": "stdout",
     "output_type": "stream",
     "text": [
      "0 0 False None\n",
      "1 inf False None\n",
      "2 inf False None\n",
      "3 inf False None\n",
      "4 inf False None\n",
      "5 inf False None\n",
      "6 inf False None\n",
      "7 inf False None\n",
      "8 inf False None\n"
     ]
    }
   ],
   "source": [
    "for node in nodes:\n",
    "    print(node.id, node.tc, node.visited, node.parent)"
   ]
  },
  {
   "cell_type": "markdown",
   "metadata": {},
   "source": [
    "## 3. Dijkstra"
   ]
  },
  {
   "cell_type": "markdown",
   "metadata": {},
   "source": [
    "### Dijkstra -- proper theory\n",
    "\n",
    "#### Initialization\n",
    "- Mark all nodes: 'unvisited'\n",
    "- Set total cost of Node 0 = 0; all else = infinity\n",
    "- Set currNode = Node 0\n",
    "\n",
    "#### Invariant\n",
    "1. For all unvisited neighbours of currNode (nb), check if (totalCost to currNode + cost of 1 step to nb) < totalCost to nb. If so:\n",
    "    - update nb totalCost \n",
    "    - update nb parent to currNode\n",
    "2. Set the currNode to visited\n",
    "3. If ‘fin’ == visited, stop\n",
    "4. Else, currNode = unvisited node with least cost"
   ]
  },
  {
   "cell_type": "code",
   "execution_count": 10,
   "metadata": {},
   "outputs": [
    {
     "name": "stdout",
     "output_type": "stream",
     "text": [
      "0 0\n",
      "1 4\n",
      "2 0\n",
      "3 0\n",
      "4 0\n",
      "5 0\n",
      "6 0\n",
      "7 8\n",
      "8 0\n"
     ]
    }
   ],
   "source": [
    "def dijkstra(nodes):\n",
    "    \n",
    "    queue = [nodes[0]]\n",
    "    \n",
    "    while queue:\n",
    "        curr_node = queue.pop(0)\n",
    "        \n",
    "        ##Iterate through all neighbhours\n",
    "        for nb_id, step_w in enumerate(graph[curr_node.id]):\n",
    "            if step_w:\n",
    "                if nodes[nb].\n",
    "            \n",
    "\n",
    "    \n"
   ]
  },
  {
   "cell_type": "code",
   "execution_count": 9,
   "metadata": {},
   "outputs": [
    {
     "data": {
      "text/plain": [
       "0"
      ]
     },
     "execution_count": 9,
     "metadata": {},
     "output_type": "execute_result"
    }
   ],
   "source": [
    "graph =[[0, 4, 0, 0, 0, 0, 0, 8, 0], \n",
    "        [4, 0, 8, 0, 0, 0, 0, 11, 0], \n",
    "        [0, 8, 0, 7, 0, 4, 0, 0, 2], \n",
    "        [0, 0, 7, 0, 9, 14, 0, 0, 0], \n",
    "        [0, 0, 0, 9, 0, 10, 0, 0, 0], \n",
    "        [0, 0, 4, 14, 10, 0, 2, 0, 0], \n",
    "        [0, 0, 0, 0, 0, 2, 0, 1, 6], \n",
    "        [8, 11, 0, 0, 0, 0, 1, 0, 7], \n",
    "        [0, 0, 2, 0, 0, 0, 6, 7, 0] \n",
    "        ];"
   ]
  },
  {
   "cell_type": "code",
   "execution_count": null,
   "metadata": {},
   "outputs": [],
   "source": []
  }
 ],
 "metadata": {
  "kernelspec": {
   "display_name": "Python 3",
   "language": "python",
   "name": "python3"
  },
  "language_info": {
   "codemirror_mode": {
    "name": "ipython",
    "version": 3
   },
   "file_extension": ".py",
   "mimetype": "text/x-python",
   "name": "python",
   "nbconvert_exporter": "python",
   "pygments_lexer": "ipython3",
   "version": "3.7.6"
  }
 },
 "nbformat": 4,
 "nbformat_minor": 4
}
